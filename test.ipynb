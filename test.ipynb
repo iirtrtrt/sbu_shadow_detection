{
 "cells": [
  {
   "cell_type": "code",
   "execution_count": 1,
   "metadata": {},
   "outputs": [
    {
     "name": "stdout",
     "output_type": "stream",
     "text": [
      "hello world!\n"
     ]
    }
   ],
   "source": [
    "print(\"hello world!\")"
   ]
  },
  {
   "cell_type": "code",
   "execution_count": null,
   "metadata": {},
   "outputs": [],
   "source": [
    "from ultralytics import YOLO\n",
    "import os\n",
    "\n",
    "# Create output directory if it doesn't exist\n",
    "output_dir = \"output\"\n",
    "os.makedirs(output_dir, exist_ok=True)\n",
    "\n",
    "# Load the YOLO model\n",
    "model = YOLO(\"yolov8n.pt\")\n",
    "\n",
    "# Run inference on an image\n",
    "results = model(\"crosswalk.jpg\")\n",
    "\n",
    "# Loop through each result in the results list\n",
    "for idx, result in enumerate(results):\n",
    "    # Extract bounding boxes for the current result\n",
    "    boxes = result.boxes  # Get the boxes from the result\n",
    "    scores = boxes.conf  # Get the confidence scores\n",
    "    classes = boxes.cls  # Get the class labels (indices)\n",
    "\n",
    "    # Loop through each detected box\n",
    "    for i, box in enumerate(boxes):\n",
    "        # Extract the coordinates: [x1, y1, x2, y2]\n",
    "        x1, y1, x2, y2 = box.xyxy[0]  # Take the first box\n",
    "\n",
    "        # Calculate the width and height\n",
    "        width = x2 - x1\n",
    "        height = y2 - y1\n",
    "\n",
    "        # Calculate the area\n",
    "        area = width * height\n",
    "\n",
    "        # Get class index and label\n",
    "        class_index = int(classes[i])  # Convert tensor to int\n",
    "        class_name = model.names[\n",
    "            class_index\n",
    "        ]  # Get class name using the model's class names\n",
    "\n",
    "        # Print class name, area, and coordinates as four corners\n",
    "        print(\n",
    "            f\"Detected: {class_name}, Area: {area:.2f} pixels, \"\n",
    "            f\"Coordinates: ({x1:.2f}, {y1:.2f}), ({x2:.2f}, {y1:.2f}), \"\n",
    "            f\"({x2:.2f}, {y2:.2f}), ({x1:.2f}, {y2:.2f})\"\n",
    "        )\n",
    "\n",
    "    # Save the detection results as images\n",
    "    result.save(f\"{output_dir}/detection_result_{idx}.jpg\")\n",
    "\n",
    "# Optionally, print a message when done\n",
    "print(\"Detection results saved successfully.\")"
   ]
  },
  {
   "cell_type": "code",
   "execution_count": 2,
   "metadata": {},
   "outputs": [
    {
     "name": "stdout",
     "output_type": "stream",
     "text": [
      "2.6.0\n",
      "mps\n"
     ]
    }
   ],
   "source": [
    "import torch\n",
    "\n",
    "print(torch.__version__)\n",
    "device = torch.device(\n",
    "    \"cuda\"\n",
    "    if torch.cuda.is_available()\n",
    "    else (\"mps\" if torch.backends.mps.is_available() else \"cpu\")\n",
    ")\n",
    "print(device)"
   ]
  }
 ],
 "metadata": {
  "kernelspec": {
   "display_name": "py39",
   "language": "python",
   "name": "python3"
  },
  "language_info": {
   "codemirror_mode": {
    "name": "ipython",
    "version": 3
   },
   "file_extension": ".py",
   "mimetype": "text/x-python",
   "name": "python",
   "nbconvert_exporter": "python",
   "pygments_lexer": "ipython3",
   "version": "3.9.21"
  }
 },
 "nbformat": 4,
 "nbformat_minor": 2
}
